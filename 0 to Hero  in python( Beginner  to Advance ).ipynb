{
 "cells": [
  {
   "cell_type": "markdown",
   "id": "5fdce22d",
   "metadata": {},
   "source": [
    "### Basics in Python"
   ]
  },
  {
   "cell_type": "code",
   "execution_count": 1,
   "id": "05e0c364",
   "metadata": {},
   "outputs": [
    {
     "name": "stdout",
     "output_type": "stream",
     "text": [
      "Hello world\n"
     ]
    }
   ],
   "source": [
    "# strings are written in double \"\" \n",
    "#print will show the output what we input in the doulble qotes\n",
    "print(\"Hello world\")"
   ]
  },
  {
   "cell_type": "code",
   "execution_count": 2,
   "id": "c6904715",
   "metadata": {},
   "outputs": [
    {
     "name": "stdout",
     "output_type": "stream",
     "text": [
      " Hello Coders\n"
     ]
    }
   ],
   "source": [
    "# lets print hello coders\n",
    "\n",
    "print (\" Hello Coders\")"
   ]
  },
  {
   "cell_type": "code",
   "execution_count": 3,
   "id": "f4605189",
   "metadata": {},
   "outputs": [
    {
     "name": "stdout",
     "output_type": "stream",
     "text": [
      " Hey my name is Muhammad Sardar Duad khan. its my first code, and i want to be on advance level\n"
     ]
    }
   ],
   "source": [
    "#lets print Muhammad Sardar Daud Khan\n",
    "\n",
    "print(\" Hey my name is Muhammad Sardar Duad khan. its my first code, and i want to be on advance level\")"
   ]
  },
  {
   "cell_type": "code",
   "execution_count": 4,
   "id": "e3b2a06f",
   "metadata": {},
   "outputs": [
    {
     "name": "stdout",
     "output_type": "stream",
     "text": [
      "20\n",
      "20\n",
      "0.454\n",
      "57\n",
      "26\n"
     ]
    }
   ],
   "source": [
    "#now i will print int. floats and \n",
    "#then i will assign different value to them\n",
    "\n",
    "print(\"20\")#string\n",
    "print(20)#int.\n",
    "print(0.454)#float\n",
    "\n",
    "\n",
    "#we can do sum,multiply and divide in python too\n",
    "A = 34\n",
    "B = 23\n",
    "print(A+B)\n",
    "\n",
    "C = 24\n",
    "D = 2\n",
    "Z = C + D\n",
    "print(Z)\n",
    "#same as we can apply in other arthematic operations"
   ]
  },
  {
   "cell_type": "code",
   "execution_count": 5,
   "id": "2d46ba41",
   "metadata": {},
   "outputs": [
    {
     "name": "stdout",
     "output_type": "stream",
     "text": [
      "what is your name?khan\n"
     ]
    },
    {
     "data": {
      "text/plain": [
       "'khan'"
      ]
     },
     "execution_count": 5,
     "metadata": {},
     "output_type": "execute_result"
    }
   ],
   "source": [
    "#input funtion storing in variable\n",
    "\n",
    "input(\"what is your name?\")"
   ]
  },
  {
   "cell_type": "code",
   "execution_count": 6,
   "id": "b473be63",
   "metadata": {},
   "outputs": [
    {
     "name": "stdout",
     "output_type": "stream",
     "text": [
      "what is your name?khan\n"
     ]
    }
   ],
   "source": [
    "name = input(\"what is your name?\")"
   ]
  },
  {
   "cell_type": "code",
   "execution_count": 7,
   "id": "3a968ae0",
   "metadata": {},
   "outputs": [
    {
     "name": "stdout",
     "output_type": "stream",
     "text": [
      "Hellokhan\n"
     ]
    }
   ],
   "source": [
    "print(\"Hello\"   +   name)"
   ]
  },
  {
   "cell_type": "code",
   "execution_count": 8,
   "id": "60b34fe1",
   "metadata": {},
   "outputs": [
    {
     "name": "stdout",
     "output_type": "stream",
     "text": [
      "enter your old age:34\n",
      "36\n"
     ]
    }
   ],
   "source": [
    "old_age = input(\"enter your old age:\")\n",
    "\n",
    "int(old_age)\n",
    "new_age = int(old_age) + 2\n",
    "print(new_age)"
   ]
  },
  {
   "cell_type": "markdown",
   "id": "1a091e4b",
   "metadata": {},
   "source": [
    "### conversion"
   ]
  },
  {
   "cell_type": "code",
   "execution_count": 9,
   "id": "a4d30122",
   "metadata": {},
   "outputs": [
    {
     "name": "stdout",
     "output_type": "stream",
     "text": [
      "enter your first number3\n",
      "enter your second number4\n",
      "34\n"
     ]
    }
   ],
   "source": [
    "first = input(\"enter your first number\")\n",
    "second = input(\"enter your second number\")\n",
    "\n",
    "sum = first + second\n",
    "print(sum)\n",
    "\n",
    "#its concatinating because first and second are strigs format"
   ]
  },
  {
   "cell_type": "code",
   "execution_count": 10,
   "id": "b08a95cd",
   "metadata": {},
   "outputs": [
    {
     "name": "stdout",
     "output_type": "stream",
     "text": [
      "enter your first number2\n",
      "enter your second number3\n",
      "5\n"
     ]
    }
   ],
   "source": [
    "first = input(\"enter your first number\")\n",
    "second = input(\"enter your second number\")\n",
    "\n",
    "sum = int(first) + int(second)\n",
    "print(sum)\n",
    "\n",
    "#now it will give sum"
   ]
  },
  {
   "cell_type": "markdown",
   "id": "374da97b",
   "metadata": {},
   "source": [
    "### To Make it look Good more "
   ]
  },
  {
   "cell_type": "code",
   "execution_count": 11,
   "id": "957b1122",
   "metadata": {},
   "outputs": [
    {
     "name": "stdout",
     "output_type": "stream",
     "text": [
      "enter your first number3\n",
      "enter your second number3\n",
      "The sum is: 6\n"
     ]
    }
   ],
   "source": [
    "first = input(\"enter your first number\")\n",
    "second = input(\"enter your second number\")\n",
    "\n",
    "sum = int(first) + int(second)\n",
    "print(\"The sum is: \" + str(sum))"
   ]
  },
  {
   "cell_type": "markdown",
   "id": "a5123a0a",
   "metadata": {},
   "source": [
    "### Special thing in python(upper,lower)"
   ]
  },
  {
   "cell_type": "code",
   "execution_count": 12,
   "id": "7bc0672b",
   "metadata": {},
   "outputs": [
    {
     "data": {
      "text/plain": [
       "'TONY STARK'"
      ]
     },
     "execution_count": 12,
     "metadata": {},
     "output_type": "execute_result"
    }
   ],
   "source": [
    "name = \"Tony stark\"\n",
    "name.upper()"
   ]
  },
  {
   "cell_type": "code",
   "execution_count": 13,
   "id": "cbfc449c",
   "metadata": {},
   "outputs": [
    {
     "data": {
      "text/plain": [
       "'tony stark'"
      ]
     },
     "execution_count": 13,
     "metadata": {},
     "output_type": "execute_result"
    }
   ],
   "source": [
    "name = \"Tony stark\"\n",
    "name.lower()"
   ]
  },
  {
   "cell_type": "code",
   "execution_count": 14,
   "id": "7d5ef784",
   "metadata": {},
   "outputs": [
    {
     "name": "stdout",
     "output_type": "stream",
     "text": [
      "TONY STARK\n",
      "Tony stark\n"
     ]
    }
   ],
   "source": [
    "print(name.upper())\n",
    "print(name)"
   ]
  },
  {
   "cell_type": "markdown",
   "id": "c33e55a5",
   "metadata": {},
   "source": [
    "### find operation .find"
   ]
  },
  {
   "cell_type": "code",
   "execution_count": 15,
   "id": "f18512f2",
   "metadata": {},
   "outputs": [
    {
     "name": "stdout",
     "output_type": "stream",
     "text": [
      "0\n",
      "5\n"
     ]
    }
   ],
   "source": [
    "name = \"Tony khan\"\n",
    "print(name.find('T'))\n",
    "#its on index 0\n",
    "\n",
    "print(name.find('k'))"
   ]
  },
  {
   "cell_type": "markdown",
   "id": "3370806d",
   "metadata": {},
   "source": [
    "### Replace function   .replace"
   ]
  },
  {
   "cell_type": "code",
   "execution_count": 16,
   "id": "cc1bf1f2",
   "metadata": {},
   "outputs": [
    {
     "name": "stdout",
     "output_type": "stream",
     "text": [
      "iron man\n",
      "Mony khan\n"
     ]
    }
   ],
   "source": [
    "name = \"Tony khan\"\n",
    "print(name.replace(\"Tony khan\",\"iron man\"))\n",
    "print(name.replace(\"T\",\"M\"))\n",
    "                  "
   ]
  },
  {
   "cell_type": "markdown",
   "id": "e9c39f77",
   "metadata": {},
   "source": [
    "### finding index of words"
   ]
  },
  {
   "cell_type": "code",
   "execution_count": 17,
   "id": "b820c4e0",
   "metadata": {},
   "outputs": [
    {
     "name": "stdout",
     "output_type": "stream",
     "text": [
      "5\n"
     ]
    }
   ],
   "source": [
    "name = \"Tony khan\"\n",
    "              \n",
    "print(name.find(\"khan\"))"
   ]
  },
  {
   "cell_type": "markdown",
   "id": "97a1166a",
   "metadata": {},
   "source": [
    "### boolean"
   ]
  },
  {
   "cell_type": "code",
   "execution_count": 18,
   "id": "46f1e6d4",
   "metadata": {},
   "outputs": [
    {
     "name": "stdout",
     "output_type": "stream",
     "text": [
      "True\n"
     ]
    }
   ],
   "source": [
    "name = \"khan\"\n",
    "print(\"k\" in name)\n",
    "#booleann return"
   ]
  },
  {
   "cell_type": "code",
   "execution_count": 19,
   "id": "5a6b7a2d",
   "metadata": {},
   "outputs": [
    {
     "name": "stdout",
     "output_type": "stream",
     "text": [
      "False\n"
     ]
    }
   ],
   "source": [
    "name = \"khan\"\n",
    "print(\"b\" in name)\n"
   ]
  },
  {
   "cell_type": "markdown",
   "id": "2b07d23b",
   "metadata": {},
   "source": [
    "### Arethematic Operaters"
   ]
  },
  {
   "cell_type": "code",
   "execution_count": 20,
   "id": "55602599",
   "metadata": {},
   "outputs": [
    {
     "name": "stdout",
     "output_type": "stream",
     "text": [
      "2.5\n"
     ]
    }
   ],
   "source": [
    "print(5/2)\n",
    "#will show float"
   ]
  },
  {
   "cell_type": "code",
   "execution_count": 21,
   "id": "0274eab9",
   "metadata": {},
   "outputs": [
    {
     "name": "stdout",
     "output_type": "stream",
     "text": [
      "20\n"
     ]
    }
   ],
   "source": [
    "print(2*10)"
   ]
  },
  {
   "cell_type": "markdown",
   "id": "3c0af9b2",
   "metadata": {},
   "source": [
    "### Removing after decimal\n"
   ]
  },
  {
   "cell_type": "code",
   "execution_count": 22,
   "id": "067365e4",
   "metadata": {},
   "outputs": [
    {
     "name": "stdout",
     "output_type": "stream",
     "text": [
      "2\n"
     ]
    }
   ],
   "source": [
    "print(5//2)\n",
    "#it will remove the rest of digit after decimal"
   ]
  },
  {
   "cell_type": "markdown",
   "id": "4091f459",
   "metadata": {},
   "source": [
    "### reminder operator\n"
   ]
  },
  {
   "cell_type": "code",
   "execution_count": 23,
   "id": "47c42504",
   "metadata": {},
   "outputs": [
    {
     "name": "stdout",
     "output_type": "stream",
     "text": [
      "1\n"
     ]
    }
   ],
   "source": [
    "print(5%2)\n",
    "#its remider operator"
   ]
  },
  {
   "cell_type": "code",
   "execution_count": 24,
   "id": "db420a64",
   "metadata": {},
   "outputs": [
    {
     "name": "stdout",
     "output_type": "stream",
     "text": [
      "7\n"
     ]
    }
   ],
   "source": [
    "i = 5\n",
    "i = i + 2\n",
    "print(i)"
   ]
  },
  {
   "cell_type": "markdown",
   "id": "bfa622a7",
   "metadata": {},
   "source": [
    "### operating preceeding   multiply operater is first priority"
   ]
  },
  {
   "cell_type": "code",
   "execution_count": 25,
   "id": "6948b16e",
   "metadata": {},
   "outputs": [
    {
     "name": "stdout",
     "output_type": "stream",
     "text": [
      "17\n"
     ]
    }
   ],
   "source": [
    "result = 2+3*5\n",
    "print(result)"
   ]
  },
  {
   "cell_type": "code",
   "execution_count": 26,
   "id": "199cb07b",
   "metadata": {},
   "outputs": [
    {
     "name": "stdout",
     "output_type": "stream",
     "text": [
      "2.8\n"
     ]
    }
   ],
   "source": [
    "result = 2+4 /5\n",
    "print(result)"
   ]
  },
  {
   "cell_type": "markdown",
   "id": "9a5db2a0",
   "metadata": {},
   "source": [
    "### Comparisonm operator boolean value"
   ]
  },
  {
   "cell_type": "code",
   "execution_count": 27,
   "id": "b7cb9083",
   "metadata": {},
   "outputs": [
    {
     "name": "stdout",
     "output_type": "stream",
     "text": [
      "True\n"
     ]
    }
   ],
   "source": [
    "print(3>2)"
   ]
  },
  {
   "cell_type": "code",
   "execution_count": 28,
   "id": "713c96a3",
   "metadata": {},
   "outputs": [
    {
     "name": "stdout",
     "output_type": "stream",
     "text": [
      "False\n"
     ]
    }
   ],
   "source": [
    "print(3 == 2)\n",
    "# equal to equal to "
   ]
  },
  {
   "cell_type": "code",
   "execution_count": 29,
   "id": "1c642034",
   "metadata": {},
   "outputs": [
    {
     "name": "stdout",
     "output_type": "stream",
     "text": [
      "True\n"
     ]
    }
   ],
   "source": [
    "print(3 != 2)\n",
    "#! not  value reverse"
   ]
  },
  {
   "cell_type": "markdown",
   "id": "19b86df9",
   "metadata": {},
   "source": [
    "### Logical operator    or "
   ]
  },
  {
   "cell_type": "code",
   "execution_count": 30,
   "id": "2ce46c26",
   "metadata": {},
   "outputs": [
    {
     "name": "stdout",
     "output_type": "stream",
     "text": [
      "True\n"
     ]
    }
   ],
   "source": [
    "print(2>3 or 2>1)"
   ]
  },
  {
   "cell_type": "markdown",
   "id": "8fd54a8e",
   "metadata": {},
   "source": [
    "### and "
   ]
  },
  {
   "cell_type": "code",
   "execution_count": 31,
   "id": "fa14645b",
   "metadata": {},
   "outputs": [
    {
     "name": "stdout",
     "output_type": "stream",
     "text": [
      "False\n"
     ]
    }
   ],
   "source": [
    "print(3>2. and 2>3)"
   ]
  },
  {
   "cell_type": "markdown",
   "id": "0ab272c8",
   "metadata": {},
   "source": [
    "### not "
   ]
  },
  {
   "cell_type": "code",
   "execution_count": 32,
   "id": "a9fbdbb5",
   "metadata": {},
   "outputs": [
    {
     "name": "stdout",
     "output_type": "stream",
     "text": [
      "True\n"
     ]
    }
   ],
   "source": [
    "print(not 2>3)"
   ]
  },
  {
   "cell_type": "markdown",
   "id": "d0908cca",
   "metadata": {},
   "source": [
    "### Conditions   if else statment"
   ]
  },
  {
   "cell_type": "code",
   "execution_count": 33,
   "id": "6a35553c",
   "metadata": {},
   "outputs": [
    {
     "name": "stdout",
     "output_type": "stream",
     "text": [
      "your are an adult\n",
      "you can vote\n"
     ]
    }
   ],
   "source": [
    "age = 19\n",
    "if age >= 18:\n",
    "    print(\"your are an adult\")\n",
    "    print(\"you can vote\")"
   ]
  },
  {
   "cell_type": "code",
   "execution_count": 34,
   "id": "3295eda8",
   "metadata": {},
   "outputs": [
    {
     "name": "stdout",
     "output_type": "stream",
     "text": [
      "your are an adult\n",
      "you can vote\n",
      "thank you\n"
     ]
    }
   ],
   "source": [
    "age = 19\n",
    "if age >= 18:\n",
    "    print(\"your are an adult\")\n",
    "    print(\"you can vote\")\n",
    "    \n",
    "print(\"thank you\")"
   ]
  },
  {
   "cell_type": "code",
   "execution_count": 35,
   "id": "cd46907b",
   "metadata": {},
   "outputs": [
    {
     "name": "stdout",
     "output_type": "stream",
     "text": [
      "thank you\n"
     ]
    }
   ],
   "source": [
    "age = 16\n",
    "if age >= 18:\n",
    "    print(\"your are an adult\")\n",
    "    print(\"you can vote\")\n",
    "    \n",
    "print(\"thank you\")\n",
    "#condition not true"
   ]
  },
  {
   "cell_type": "code",
   "execution_count": 36,
   "id": "9dc12f79",
   "metadata": {},
   "outputs": [
    {
     "name": "stdout",
     "output_type": "stream",
     "text": [
      "you are in school\n",
      "thank you\n"
     ]
    }
   ],
   "source": [
    "#elif\n",
    "\n",
    "age = 10\n",
    "if age >= 18:\n",
    "    print(\"your are an adult\")\n",
    "    print(\"you can vote\")\n",
    "elif age < 18 and age >3:\n",
    "    print(\"you are in school\")\n",
    "    \n",
    "print(\"thank you\")"
   ]
  },
  {
   "cell_type": "code",
   "execution_count": 37,
   "id": "8077b6ee",
   "metadata": {},
   "outputs": [
    {
     "name": "stdout",
     "output_type": "stream",
     "text": [
      "you are a baby\n",
      "thank you\n"
     ]
    }
   ],
   "source": [
    "#else\n",
    "\n",
    "age = 2\n",
    "if age >= 18:\n",
    "    print(\"your are an adult\")\n",
    "    print(\"you can vote\")\n",
    "elif age < 18 and age >3:\n",
    "    print(\"you are in school\")\n",
    "else:\n",
    "    print(\"you are a baby\")\n",
    "    \n",
    "print(\"thank you\")"
   ]
  },
  {
   "cell_type": "markdown",
   "id": "238152f6",
   "metadata": {},
   "source": []
  }
 ],
 "metadata": {
  "kernelspec": {
   "display_name": "Python 3 (ipykernel)",
   "language": "python",
   "name": "python3"
  },
  "language_info": {
   "codemirror_mode": {
    "name": "ipython",
    "version": 3
   },
   "file_extension": ".py",
   "mimetype": "text/x-python",
   "name": "python",
   "nbconvert_exporter": "python",
   "pygments_lexer": "ipython3",
   "version": "3.8.12"
  }
 },
 "nbformat": 4,
 "nbformat_minor": 5
}
